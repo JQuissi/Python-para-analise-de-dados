{
 "cells": [
  {
   "cell_type": "markdown",
   "source": [
    "# <font color='blue'>Data Science Academy</font>\n",
    "\n",
    "## <font color='blue'>Fundamentos de Linguagem Python Para Análise de Dados e Data Science</font>\n",
    "\n",
    "## <font color='blue'>Capítulo 3 - Introdução à Lógica de Programação</font>"
   ],
   "metadata": {}
  },
  {
   "cell_type": "markdown",
   "source": [
    "## Pseudocódigo 1 - Calcular a Área de Um Paralelograma\n",
    "\n",
    "Nota: Um paralelogramo é um quadrilátero com lados opostos paralelos (e portanto ângulos opostos iguais). Um quadrilátero com lados iguais é chamado de losango e um paralelogramo cujos ângulos são todos ângulos retos é chamado de retângulo."
   ],
   "metadata": {}
  },
  {
   "cell_type": "markdown",
   "source": [
    "Inicie\n",
    "    \n",
    "    Exiba \"Bem-vindo ao Calculador de Área de Paralelogramo\"\n",
    "    Peça para o usuário inserir o comprimento da base\n",
    "    Armazene o comprimento da base em uma variável\n",
    "    Peça para o usuário inserir a altura\n",
    "    Armazene a altura em uma variável\n",
    "    Calcule a área do paralelogramo:  base * altura\n",
    "    Armazene o resultado em uma variável\n",
    "    Exiba o resultado\n",
    "    \n",
    "Fim\n"
   ],
   "metadata": {}
  },
  {
   "cell_type": "markdown",
   "source": [
    "## Convertendo o Pseudocódigo 1 em Programa Python"
   ],
   "metadata": {}
  },
  {
   "cell_type": "code",
   "execution_count": 2,
   "source": [
    "print(\"Bem-vindo ao Calculador de Área de Paralelogramo\")"
   ],
   "outputs": [
    {
     "output_type": "stream",
     "name": "stdout",
     "text": [
      "Bem-vindo ao Calculador de Área de Paralelogramo\n"
     ]
    }
   ],
   "metadata": {}
  },
  {
   "cell_type": "code",
   "execution_count": 3,
   "source": [
    "base = float(input(\"Insira o comprimento da base: \"))"
   ],
   "outputs": [
    {
     "output_type": "stream",
     "name": "stdout",
     "text": [
      "Insira o comprimento da base: 4\n"
     ]
    }
   ],
   "metadata": {}
  },
  {
   "cell_type": "code",
   "execution_count": 4,
   "source": [
    "altura = float(input(\"Insira a altura: \"))"
   ],
   "outputs": [
    {
     "output_type": "stream",
     "name": "stdout",
     "text": [
      "Insira a altura: 7\n"
     ]
    }
   ],
   "metadata": {}
  },
  {
   "cell_type": "code",
   "execution_count": 5,
   "source": [
    "area = base * altura"
   ],
   "outputs": [],
   "metadata": {}
  },
  {
   "cell_type": "code",
   "execution_count": 6,
   "source": [
    "print(\"A área do paralelogramo é: \", area)"
   ],
   "outputs": [
    {
     "output_type": "stream",
     "name": "stdout",
     "text": [
      "A área do paralelogramo é:  28.0\n"
     ]
    }
   ],
   "metadata": {}
  },
  {
   "cell_type": "markdown",
   "source": [
    "## Pseudocódigo 2 - Calculadora Simples"
   ],
   "metadata": {}
  },
  {
   "cell_type": "markdown",
   "source": [
    "\n",
    "Inicie\n",
    "\n",
    "    Exiba \"Bem-vindo à Calculadora\"\n",
    "    Peça para o usuário inserir o primeiro número\n",
    "    Armazene o primeiro número em uma variável\n",
    "    Peça para o usuário inserir o segundo número\n",
    "    Armazene o segundo número em uma variável\n",
    "    Peça para o usuário selecionar uma operação (+, -, *, /)\n",
    "    Armazene a operação em uma variável\n",
    "    Utilize a operação selecionada e os números armazenados para realizar o cálculo\n",
    "    Exiba o resultado\n",
    "\n",
    "Fim\n"
   ],
   "metadata": {}
  },
  {
   "cell_type": "markdown",
   "source": [
    "## Convertendo o Pseudocódigo 2 em Programa Python"
   ],
   "metadata": {}
  },
  {
   "cell_type": "code",
   "execution_count": 7,
   "source": [
    "print(\"Bem-vindo à Calculadora\")"
   ],
   "outputs": [
    {
     "output_type": "stream",
     "name": "stdout",
     "text": [
      "Bem-vindo à Calculadora\n"
     ]
    }
   ],
   "metadata": {}
  },
  {
   "cell_type": "code",
   "execution_count": 8,
   "source": [
    "num1 = float(input(\"Insira o primeiro número: \"))"
   ],
   "outputs": [
    {
     "output_type": "stream",
     "name": "stdout",
     "text": [
      "Insira o primeiro número: 3\n"
     ]
    }
   ],
   "metadata": {}
  },
  {
   "cell_type": "code",
   "execution_count": 9,
   "source": [
    "num2 = float(input(\"Insira o segundo número: \"))"
   ],
   "outputs": [
    {
     "output_type": "stream",
     "name": "stdout",
     "text": [
      "Insira o segundo número: 4\n"
     ]
    }
   ],
   "metadata": {}
  },
  {
   "cell_type": "code",
   "execution_count": 10,
   "source": [
    "operacao = input(\"Selecione uma operação (+, -, *, /): \")"
   ],
   "outputs": [
    {
     "output_type": "stream",
     "name": "stdout",
     "text": [
      "Selecione uma operação (+, -, *, /): *\n"
     ]
    }
   ],
   "metadata": {}
  },
  {
   "cell_type": "code",
   "execution_count": 11,
   "source": [
    "if operacao == \"+\":\n",
    "    resultado = num1 + num2\n",
    "    print(\"O resultado é: \", resultado)\n",
    "\n",
    "elif operacao == \"-\":\n",
    "    resultado = num1 - num2\n",
    "    print(\"O resultado é: \", resultado)\n",
    "\n",
    "elif operacao == \"*\":\n",
    "    resultado = num1 * num2\n",
    "    print(\"O resultado é: \", resultado)\n",
    "    \n",
    "elif operacao == \"/\":\n",
    "    resultado = num1 / num2\n",
    "    print(\"O resultado é: \", resultado)\n",
    "\n",
    "else:\n",
    "    print(\"Operação inválida.\")"
   ],
   "outputs": [
    {
     "output_type": "stream",
     "name": "stdout",
     "text": [
      "O resultado é:  12.0\n"
     ]
    }
   ],
   "metadata": {}
  },
  {
   "cell_type": "markdown",
   "source": [
    "## Pseudocódigo 3 - Algoritmo Bubble Sort\n",
    "\n",
    "Bubble Sort é um algoritmo de ordenação simples que funciona comparando cada elemento com o próximo, e trocando-os de lugar se eles estiverem em ordem incorreta. O algoritmo repete esse processo várias vezes, até que todos os elementos estejam ordenados. A cada passagem, o maior elemento \"flutua\" para o final do array, como uma bolha, dando origem ao nome do algoritmo."
   ],
   "metadata": {}
  },
  {
   "cell_type": "markdown",
   "source": [
    "Inicie\n",
    "    \n",
    "    Para cada elemento i no array de tamanho n\n",
    "        Para cada elemento j no array de tamanho n - 1\n",
    "            Se elemento i for maior que elemento j\n",
    "                Troque os elementos i e j\n",
    "    Exiba o array ordenado\n",
    "\n",
    "Fim"
   ],
   "metadata": {}
  },
  {
   "cell_type": "code",
   "execution_count": 12,
   "source": [
    "# Considere esta lista como exemplo para ordenação com o Bubble sort\n",
    "lista = [6, 3, 12, 7]"
   ],
   "outputs": [],
   "metadata": {}
  },
  {
   "cell_type": "code",
   "execution_count": 13,
   "source": [
    "# Primeira passada do algoritmo (troca os elementos 6 e 3 de lugar)\n",
    "lista = [3, 6, 12, 7]"
   ],
   "outputs": [],
   "metadata": {}
  },
  {
   "cell_type": "code",
   "execution_count": 14,
   "source": [
    "# Segunda passada do algoritmo (não tem troca entre 6 e 12)\n",
    "lista = [3, 6, 12, 7]"
   ],
   "outputs": [],
   "metadata": {}
  },
  {
   "cell_type": "code",
   "execution_count": 15,
   "source": [
    "# Terceira passada do algoritmo (troca os elementos 12 e7 de lugar)\n",
    "lista = [3, 6, 7, 12]"
   ],
   "outputs": [],
   "metadata": {}
  },
  {
   "cell_type": "markdown",
   "source": [
    "## Convertendo o Pseudocódigo 3 em Programa Python"
   ],
   "metadata": {}
  },
  {
   "cell_type": "code",
   "execution_count": 16,
   "source": [
    "lista = [6,7,8,3,10,19,4,1,0,61,30,16,17,82,29,34,43,21,11,39,56,67,12]"
   ],
   "outputs": [],
   "metadata": {}
  },
  {
   "cell_type": "code",
   "execution_count": 17,
   "source": [
    "def bubble_sort(arr):\n",
    "    \n",
    "    n = len(arr)\n",
    "    \n",
    "    # Para cada elemento i do array\n",
    "    for i in range(n):\n",
    "    \n",
    "        # Para cada elemento j do array\n",
    "        for j in range(0, n-i-1):\n",
    "        \n",
    "            # Se elemento i for maior que elemento j\n",
    "            if arr[j] > arr[j+1]:\n",
    "            \n",
    "                # Troque os elementos i e j\n",
    "                arr[j], arr[j+1] = arr[j+1], arr[j]\n",
    "    \n",
    "    return arr"
   ],
   "outputs": [],
   "metadata": {}
  },
  {
   "cell_type": "code",
   "execution_count": 18,
   "source": [
    "print(bubble_sort(lista))"
   ],
   "outputs": [
    {
     "output_type": "stream",
     "name": "stdout",
     "text": [
      "[0, 1, 3, 4, 6, 7, 8, 10, 11, 12, 16, 17, 19, 21, 29, 30, 34, 39, 43, 56, 61, 67, 82]\n"
     ]
    }
   ],
   "metadata": {}
  },
  {
   "cell_type": "markdown",
   "source": [
    "Parece mágica! Mas não é. É a beleza da programação de computadores!"
   ],
   "metadata": {}
  },
  {
   "cell_type": "code",
   "execution_count": 19,
   "source": [
    "lista2 = [60,17,28,3,10,19,4,1,0,61,30,16,17,82,29,34,43,21,11,39,56,67,12]"
   ],
   "outputs": [],
   "metadata": {}
  },
  {
   "cell_type": "code",
   "execution_count": 20,
   "source": [
    "print(bubble_sort(lista2))"
   ],
   "outputs": [
    {
     "output_type": "stream",
     "name": "stdout",
     "text": [
      "[0, 1, 3, 4, 10, 11, 12, 16, 17, 17, 19, 21, 28, 29, 30, 34, 39, 43, 56, 60, 61, 67, 82]\n"
     ]
    }
   ],
   "metadata": {}
  },
  {
   "cell_type": "markdown",
   "source": [
    "# Fim"
   ],
   "metadata": {}
  },
  {
   "cell_type": "markdown",
   "source": [
    "### Obrigado\n",
    "\n",
    "### Visite o Blog da Data Science Academy - <a href=\"http://blog.dsacademy.com.br\">Blog DSA</a>"
   ],
   "metadata": {}
  }
 ],
 "metadata": {
  "anaconda-cloud": {},
  "kernelspec": {
   "display_name": "Python 3 (ipykernel)",
   "language": "python",
   "name": "python3"
  },
  "language_info": {
   "codemirror_mode": {
    "name": "ipython",
    "version": 3
   },
   "file_extension": ".py",
   "mimetype": "text/x-python",
   "name": "python",
   "nbconvert_exporter": "python",
   "pygments_lexer": "ipython3",
   "version": "3.9.13"
  }
 },
 "nbformat": 4,
 "nbformat_minor": 1
}