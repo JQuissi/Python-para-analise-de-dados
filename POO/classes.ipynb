{
 "cells": [
  {
   "cell_type": "code",
   "execution_count": 3,
   "source": [
    "# Criando uma classe chamada livro\r\n",
    "class Livro():\r\n",
    "    # método construtor. Usado para inicializar os atributos da classe\r\n",
    "    def __init__(self):\r\n",
    "        # Atributos são propriedades\r\n",
    "        self.titulo = 'Sapiens - Uma breve história da humanidade'\r\n",
    "        self.isbn = 998888\r\n",
    "        print(\"Construtor chamado para criar um objeto desta classe.\")\r\n",
    "\r\n",
    "    # Métodos são funções que executam ações nos objetos da classe\r\n",
    "    def imprime(self):\r\n",
    "        print(\"Foi criado o livro %s com ISBN %d\" %(self.titulo, self.isbn))"
   ],
   "outputs": [],
   "metadata": {}
  },
  {
   "cell_type": "markdown",
   "source": [
    "Em Pyhton, a palavra reservada self é uma referência ao objeto atual da classe. Quando um objeto é criado a partir de uma classe, self é utilizado para se referir a esse objeto específico. "
   ],
   "metadata": {}
  },
  {
   "cell_type": "code",
   "execution_count": 4,
   "source": [
    "# Criando uma instância da classe Livro \r\n",
    "Livro1 = Livro()"
   ],
   "outputs": [
    {
     "output_type": "stream",
     "name": "stdout",
     "text": [
      "Construtor chamado para criar um objeto desta classe.\n"
     ]
    }
   ],
   "metadata": {}
  },
  {
   "cell_type": "code",
   "execution_count": 5,
   "source": [
    "# O objeto Livro1 é do tipo Livro \r\n",
    "type(Livro1)"
   ],
   "outputs": [
    {
     "output_type": "execute_result",
     "data": {
      "text/plain": [
       "__main__.Livro"
      ]
     },
     "metadata": {},
     "execution_count": 5
    }
   ],
   "metadata": {}
  },
  {
   "cell_type": "code",
   "execution_count": 10,
   "source": [
    "#Atributo do objeto Livro1\r\n",
    "Livro1.titulo"
   ],
   "outputs": [
    {
     "output_type": "execute_result",
     "data": {
      "text/plain": [
       "'Sapiens - Uma breve história da humanidade'"
      ]
     },
     "metadata": {},
     "execution_count": 10
    }
   ],
   "metadata": {}
  },
  {
   "cell_type": "code",
   "execution_count": 12,
   "source": [
    "Livro1.imprime()"
   ],
   "outputs": [
    {
     "output_type": "stream",
     "name": "stdout",
     "text": [
      "Foi criado o livro Sapiens - Uma breve história da humanidade com ISBN 998888\n"
     ]
    }
   ],
   "metadata": {}
  },
  {
   "cell_type": "code",
   "execution_count": 15,
   "source": [
    "# Criando uma classe Livro com  parâmetros no método construtor\r\n",
    "class Livro():\r\n",
    "    # método construtor. Usado para inicializar os atributos da classe\r\n",
    "    def __init__(self, titulo, isbn):\r\n",
    "        # Atributos são propriedades\r\n",
    "        self.titulo = titulo\r\n",
    "        self.isbn = isbn\r\n",
    "        print(\"Construtor chamado para criar um objeto desta classe.\")\r\n",
    "\r\n",
    "    # Métodos são funções que executam ações nos objetos da classe\r\n",
    "    def imprime (self, titulo, isbn):\r\n",
    "        print(\"Foi criado o livro %s com ISBN %d\" %(titulo, isbn))"
   ],
   "outputs": [],
   "metadata": {}
  },
  {
   "cell_type": "code",
   "execution_count": 16,
   "source": [
    "# Criando o objeto Livro2 que é uma instância da classe Livro\r\n",
    "Livro2 = Livro(\"O Poder do Hábito\", 77886611)"
   ],
   "outputs": [
    {
     "output_type": "stream",
     "name": "stdout",
     "text": [
      "Construtor chamado para criar um objeto desta classe.\n"
     ]
    }
   ],
   "metadata": {}
  },
  {
   "cell_type": "code",
   "execution_count": 17,
   "source": [
    "Livro2.titulo"
   ],
   "outputs": [
    {
     "output_type": "execute_result",
     "data": {
      "text/plain": [
       "'O Poder do Hábito'"
      ]
     },
     "metadata": {},
     "execution_count": 17
    }
   ],
   "metadata": {}
  },
  {
   "cell_type": "code",
   "execution_count": 18,
   "source": [
    "#Método do objeto Livro2\r\n",
    "Livro2.imprime(\"O Poder do Hábito\", 77886611)"
   ],
   "outputs": [
    {
     "output_type": "stream",
     "name": "stdout",
     "text": [
      "Foi criado o livro O Poder do Hábito com ISBN 77886611\n"
     ]
    }
   ],
   "metadata": {}
  },
  {
   "cell_type": "code",
   "execution_count": 22,
   "source": [
    "#Criando a classe cachorro \r\n",
    "class Algoritmo():\r\n",
    "    def __init__(self, tipo_algo):\r\n",
    "        self.tipo = tipo_algo\r\n",
    "        print(\"Construtor chamado para criar um objeto desta classe.\")"
   ],
   "outputs": [],
   "metadata": {}
  },
  {
   "cell_type": "code",
   "execution_count": 26,
   "source": [
    "#Criando um objeto a partir da classe - instância da classe\r\n",
    "algo1 = Algoritmo(tipo_algo = \"Randon Forest\")"
   ],
   "outputs": [
    {
     "output_type": "stream",
     "name": "stdout",
     "text": [
      "Construtor chamado para criar um objeto desta classe.\n"
     ]
    }
   ],
   "metadata": {}
  },
  {
   "cell_type": "code",
   "execution_count": 25,
   "source": [
    "#Criando um objeto a partir da classe \r\n",
    "algo2 = Algoritmo(tipo_algo = \"Deep Learning\")"
   ],
   "outputs": [
    {
     "output_type": "stream",
     "name": "stdout",
     "text": [
      "Construtor chamado para criar um objeto desta classe.\n"
     ]
    }
   ],
   "metadata": {}
  },
  {
   "cell_type": "code",
   "execution_count": 27,
   "source": [
    "#Atributo da classe \r\n",
    "algo1.tipo"
   ],
   "outputs": [
    {
     "output_type": "execute_result",
     "data": {
      "text/plain": [
       "'Randon Forest'"
      ]
     },
     "metadata": {},
     "execution_count": 27
    }
   ],
   "metadata": {}
  },
  {
   "cell_type": "code",
   "execution_count": 28,
   "source": [
    "#Atributo da classe \r\n",
    "algo2.tipo"
   ],
   "outputs": [
    {
     "output_type": "execute_result",
     "data": {
      "text/plain": [
       "'Deep Learning'"
      ]
     },
     "metadata": {},
     "execution_count": 28
    }
   ],
   "metadata": {}
  }
 ],
 "metadata": {
  "orig_nbformat": 4,
  "language_info": {
   "name": "python",
   "version": "3.9.12",
   "mimetype": "text/x-python",
   "codemirror_mode": {
    "name": "ipython",
    "version": 3
   },
   "pygments_lexer": "ipython3",
   "nbconvert_exporter": "python",
   "file_extension": ".py"
  },
  "kernelspec": {
   "name": "python3",
   "display_name": "Python 3.9.12 64-bit"
  },
  "interpreter": {
   "hash": "1568936ec90c0be94b7953611c11255315330ec17e85e1a9fb0c0b6047087130"
  }
 },
 "nbformat": 4,
 "nbformat_minor": 2
}