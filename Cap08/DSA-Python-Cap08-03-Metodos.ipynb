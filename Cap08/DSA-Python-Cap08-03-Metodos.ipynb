{
 "cells": [
  {
   "cell_type": "markdown",
   "source": [
    "# <font color='blue'>Data Science Academy</font>\r\n",
    "\r\n",
    "## <font color='blue'>Fundamentos de Linguagem Python Para Análise de Dados e Data Science</font>\r\n",
    "\r\n",
    "## <font color='blue'>Introdução à Programação Orientada a Objetos</font>"
   ],
   "metadata": {}
  },
  {
   "cell_type": "markdown",
   "source": [
    "## Trabalhando com Métodos de Classes em Python\r\n",
    "\r\n",
    "Em Python, os métodos de classes são funções definidas dentro de uma classe, que realizam operações específicas em objetos criados a partir dessa classe. Os métodos de classes são usados para implementar o comportamento dos objetos que pertencem a essa classe.\r\n",
    "\r\n",
    "Assim como as funções em Python, os métodos de classes podem receber argumentos e retornar valores. No entanto, diferentemente das funções normais, os métodos de classes sempre incluem o parâmetro self como o primeiro argumento, que é usado para se referir ao objeto atual da classe.\r\n",
    "\r\n",
    "O método __init__ é um método especial que é chamado quando um objeto é criado a partir da classe. Este método é usado para inicializar os atributos do objeto. Outros métodos podem ser definidos para executar tarefas específicas em um objeto, como calcular valores, realizar operações de entrada e saída, ou alterar o estado do objeto."
   ],
   "metadata": {}
  },
  {
   "cell_type": "code",
   "execution_count": 1,
   "source": [
    "# Criando uma classe chamada Circulo\r\n",
    "class Circulo():\r\n",
    "    \r\n",
    "    # Variavel - O valor de pi é constante\r\n",
    "    pi = 3.14\r\n",
    "\r\n",
    "    # Construtor -Usado para inicializar os atributos\r\n",
    "    # Quando um objeto desta classe for criado, este método será executado e o valor default do raio será 5.\r\n",
    "    def __init__(self, raio = 5):\r\n",
    "        self.raio = raio \r\n",
    "\r\n",
    "    # Esse método calcula a área. \r\n",
    "    def area(self):\r\n",
    "        return (self.raio * self.raio) * Circulo.pi\r\n",
    "\r\n",
    "    # Método para gerar um novo raio - Set\r\n",
    "    def setRaio(self, novo_raio):\r\n",
    "        self.raio = novo_raio\r\n",
    "\r\n",
    "    # Método para obter o raio do círculo - Get\r\n",
    "    def getRaio(self):\r\n",
    "        return self.raio"
   ],
   "outputs": [],
   "metadata": {}
  },
  {
   "cell_type": "code",
   "execution_count": 2,
   "source": [
    "# Criando o objeto circ, uma instância da classe Circulo()\r\n",
    "# Metodo construtor é executado\r\n",
    "circ = Circulo()"
   ],
   "outputs": [],
   "metadata": {}
  },
  {
   "cell_type": "code",
   "execution_count": 3,
   "source": [
    "# Executando um método da classe Circulo\r\n",
    "circ.getRaio()"
   ],
   "outputs": [
    {
     "output_type": "execute_result",
     "data": {
      "text/plain": [
       "5"
      ]
     },
     "metadata": {},
     "execution_count": 3
    }
   ],
   "metadata": {}
  },
  {
   "cell_type": "code",
   "execution_count": 4,
   "source": [
    "# Criando outro objeto chamado circ1. Uma instância da classe Circulo()\r\n",
    "# Agora sobrescrevendo o valor do atributo\r\n",
    "# Valor de raio igual a 7\r\n",
    "circ1 = Circulo(7)"
   ],
   "outputs": [],
   "metadata": {}
  },
  {
   "cell_type": "code",
   "execution_count": 5,
   "source": [
    "# Executando um método da classe Circulo\r\n",
    "circ1.getRaio()"
   ],
   "outputs": [
    {
     "output_type": "execute_result",
     "data": {
      "text/plain": [
       "7"
      ]
     },
     "metadata": {},
     "execution_count": 5
    }
   ],
   "metadata": {}
  },
  {
   "cell_type": "code",
   "execution_count": 6,
   "source": [
    "# Imprimindo o raio\r\n",
    "print ('O raio é:', circ.getRaio())"
   ],
   "outputs": [
    {
     "output_type": "stream",
     "name": "stdout",
     "text": [
      "O raio é: 5\n"
     ]
    }
   ],
   "metadata": {}
  },
  {
   "cell_type": "code",
   "execution_count": 7,
   "source": [
    "# Imprimindo a area\r\n",
    "print('Área igual a:', circ.area())"
   ],
   "outputs": [
    {
     "output_type": "stream",
     "name": "stdout",
     "text": [
      "Área igual a: 78.5\n"
     ]
    }
   ],
   "metadata": {}
  },
  {
   "cell_type": "code",
   "execution_count": 9,
   "source": [
    "# Gerando um novo valor para o raio do círculo\r\n",
    "circ.setRaio(3)"
   ],
   "outputs": [],
   "metadata": {}
  },
  {
   "cell_type": "code",
   "execution_count": 10,
   "source": [
    "# Imprimindo o novo raio\r\n",
    "print ('Novo raio igual a:', circ.getRaio())"
   ],
   "outputs": [
    {
     "output_type": "stream",
     "name": "stdout",
     "text": [
      "Novo raio igual a: 3\n"
     ]
    }
   ],
   "metadata": {}
  }
 ],
 "metadata": {
  "kernelspec": {
   "name": "python3",
   "display_name": "Python 3.9.12 64-bit"
  },
  "language_info": {
   "codemirror_mode": {
    "name": "ipython",
    "version": 3
   },
   "file_extension": ".py",
   "mimetype": "text/x-python",
   "name": "python",
   "nbconvert_exporter": "python",
   "pygments_lexer": "ipython3",
   "version": "3.9.12"
  },
  "interpreter": {
   "hash": "1568936ec90c0be94b7953611c11255315330ec17e85e1a9fb0c0b6047087130"
  }
 },
 "nbformat": 4,
 "nbformat_minor": 1
}