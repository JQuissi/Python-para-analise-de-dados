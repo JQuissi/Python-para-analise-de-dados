{
 "cells": [
  {
   "cell_type": "markdown",
   "source": [
    "# <font color='white'>Data Science Academy</font>\r\n",
    "\r\n",
    "## <font color='white'>Fundamentos de Linguagem Python Para Análise de Dados e Data Science</font>\r\n",
    "\r\n",
    "## <font color='white'>Introdução à Programação Orientada a Objetos</font>"
   ],
   "metadata": {}
  },
  {
   "cell_type": "markdown",
   "source": [
    "## Trabalhando com Herança de Classes em Python\n",
    "\n",
    "Em Programação Orientada a Objetos (POO), a herança é um conceito que permite criar novas classes a partir de outras classes existentes, aproveitando os atributos e métodos da classe original e adicionando novos atributos e métodos específicos. \n",
    "\n",
    "A classe original é chamada de classe mãe ou superclasse e a nova classe criada é chamada de classe filha ou subclasse.\n",
    "\n",
    "A herança é uma técnica importante em POO porque permite reutilizar o código de maneira eficiente. Em vez de criar uma nova classe do zero, a subclasse pode herdar todos os atributos e métodos da superclasse e adicionar apenas o que é necessário. Dessa forma, a subclasse pode se concentrar em fornecer funcionalidades adicionais sem precisar se preocupar com as características básicas da classe.\n",
    "\n",
    "Na herança, uma subclasse pode herdar os atributos e métodos da superclasse e substituí-los ou estendê-los conforme necessário. Por exemplo, uma subclasse pode ter um método com o mesmo nome de um método da superclasse, mas com um comportamento diferente. "
   ],
   "metadata": {}
  },
  {
   "cell_type": "code",
   "execution_count": 2,
   "source": [
    "# Criando a classe Animal - Super-classe\r\n",
    "class Animal:\r\n",
    "    \r\n",
    "    def __init__(self):\r\n",
    "        print(\"Animal criado.\")\r\n",
    "\r\n",
    "    def imprimir(self):\r\n",
    "        print(\"Este é um animal.\")\r\n",
    "\r\n",
    "    def comer(self):\r\n",
    "        print(\"Hora de comer.\")\r\n",
    "        \r\n",
    "    def emitir_som(self):\r\n",
    "        pass"
   ],
   "outputs": [],
   "metadata": {}
  },
  {
   "cell_type": "code",
   "execution_count": 3,
   "source": [
    "# Criando a classe Cachorro - Sub-classe\n",
    "class Cachorro(Animal):\n",
    "    \n",
    "    def __init__(self):\n",
    "        Animal.__init__(self)\n",
    "        print(\"Objeto Cachorro criado.\")\n",
    "    \n",
    "    def emitir_som(self):\n",
    "        print(\"Au au!\")"
   ],
   "outputs": [],
   "metadata": {}
  },
  {
   "cell_type": "code",
   "execution_count": 4,
   "source": [
    "# Criando a classe Gato - Sub-classe\n",
    "class Gato(Animal):\n",
    "    \n",
    "    def __init__(self):\n",
    "        Animal.__init__(self)\n",
    "        print(\"Objeto Gato criado.\")\n",
    "    \n",
    "    def emitir_som(self):\n",
    "        print(\"Miau!\")"
   ],
   "outputs": [],
   "metadata": {}
  },
  {
   "cell_type": "code",
   "execution_count": 5,
   "source": [
    "# Criando um objeto (Instanciando a classe)\n",
    "rex = Cachorro()"
   ],
   "outputs": [
    {
     "output_type": "stream",
     "name": "stdout",
     "text": [
      "Animal criado.\n",
      "Objeto Cachorro criado.\n"
     ]
    }
   ],
   "metadata": {}
  },
  {
   "cell_type": "code",
   "execution_count": 6,
   "source": [
    "# Criando um objeto (Instanciando a classe)\n",
    "zeze = Gato()"
   ],
   "outputs": [
    {
     "output_type": "stream",
     "name": "stdout",
     "text": [
      "Animal criado.\n",
      "Objeto Gato criado.\n"
     ]
    }
   ],
   "metadata": {}
  },
  {
   "cell_type": "code",
   "execution_count": 7,
   "source": [
    "rex.emitir_som() "
   ],
   "outputs": [
    {
     "output_type": "stream",
     "name": "stdout",
     "text": [
      "Au au!\n"
     ]
    }
   ],
   "metadata": {}
  },
  {
   "cell_type": "code",
   "execution_count": 8,
   "source": [
    "zeze.emitir_som() "
   ],
   "outputs": [
    {
     "output_type": "stream",
     "name": "stdout",
     "text": [
      "Miau!\n"
     ]
    }
   ],
   "metadata": {}
  },
  {
   "cell_type": "code",
   "execution_count": 9,
   "source": [
    "# Executando o método da classe Cachorro (sub-classe)\n",
    "rex.imprimir()"
   ],
   "outputs": [
    {
     "output_type": "stream",
     "name": "stdout",
     "text": [
      "Este é um animal.\n"
     ]
    }
   ],
   "metadata": {}
  },
  {
   "cell_type": "code",
   "execution_count": 10,
   "source": [
    "# Executando o método da classe Animal (super-classe)\n",
    "rex.comer()"
   ],
   "outputs": [
    {
     "output_type": "stream",
     "name": "stdout",
     "text": [
      "Hora de comer.\n"
     ]
    }
   ],
   "metadata": {}
  },
  {
   "cell_type": "code",
   "execution_count": 11,
   "source": [
    "# Executando o método da classe Cachorro (sub-classe)\n",
    "zeze.comer()"
   ],
   "outputs": [
    {
     "output_type": "stream",
     "name": "stdout",
     "text": [
      "Hora de comer.\n"
     ]
    }
   ],
   "metadata": {}
  },
  {
   "cell_type": "markdown",
   "source": [
    "# Fim"
   ],
   "metadata": {}
  },
  {
   "cell_type": "markdown",
   "source": [
    "### Obrigado\n",
    "\n",
    "### Visite o Blog da Data Science Academy - <a href=\"http://blog.dsacademy.com.br\">Blog DSA</a>"
   ],
   "metadata": {}
  }
 ],
 "metadata": {
  "kernelspec": {
   "display_name": "Python 3 (ipykernel)",
   "language": "python",
   "name": "python3"
  },
  "language_info": {
   "codemirror_mode": {
    "name": "ipython",
    "version": 3
   },
   "file_extension": ".py",
   "mimetype": "text/x-python",
   "name": "python",
   "nbconvert_exporter": "python",
   "pygments_lexer": "ipython3",
   "version": "3.9.13"
  }
 },
 "nbformat": 4,
 "nbformat_minor": 1
}